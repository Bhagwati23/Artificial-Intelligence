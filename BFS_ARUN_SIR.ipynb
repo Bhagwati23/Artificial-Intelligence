{
 "cells": [
  {
   "cell_type": "code",
   "execution_count": 2,
   "id": "0f244d93",
   "metadata": {},
   "outputs": [
    {
     "name": "stdout",
     "output_type": "stream",
     "text": [
      "{'A': 'WHITE', 'B': 'WHITE', 'C': 'WHITE', 'D': 'WHITE', 'E': 'WHITE', 'F': 'WHITE'}\n",
      "{'A': inf, 'B': inf, 'C': inf, 'D': inf, 'E': inf, 'F': inf}\n",
      "{'A': None, 'B': None, 'C': None, 'D': None, 'E': None, 'F': None}\n"
     ]
    }
   ],
   "source": [
    "graph = {\n",
    "    'A': ['B', 'C'],\n",
    "    'B': ['D', 'E'],\n",
    "    'C': ['F'],\n",
    "    'D': [],\n",
    "    'E': ['F'],\n",
    "    'F': []\n",
    "}\n",
    "\n",
    "color = {u: \"WHITE\" for u in graph}\n",
    "distance = {u: float(\"inf\") for u in graph}\n",
    "parent = {u: None for u in graph}\n",
    "\n",
    "print(color)\n",
    "print(distance)\n",
    "print(parent)\n"
   ]
  },
  {
   "cell_type": "code",
   "execution_count": 3,
   "id": "a43ee0ae",
   "metadata": {},
   "outputs": [],
   "source": [
    "from collections import deque\n",
    "\n",
    "def BFS(graph, start):\n",
    "    # Initialization\n",
    "    color = {u: \"WHITE\" for u in graph}\n",
    "    distance = {u: float(\"inf\") for u in graph}\n",
    "    parent = {u: None for u in graph}\n",
    "\n",
    "    # Start node setup\n",
    "    color[start] = \"GRAY\"\n",
    "    distance[start] = 0\n",
    "    parent[start] = None\n",
    "\n",
    "    # Queue initialization\n",
    "    Q = deque()\n",
    "    Q.append(start)\n",
    "\n",
    "    # BFS loop\n",
    "    while Q:\n",
    "        u = Q.popleft()\n",
    "        for v in graph[u]:\n",
    "            if color[v] == \"WHITE\":\n",
    "                color[v] = \"GRAY\"\n",
    "                distance[v] = distance[u] + 1\n",
    "                parent[v] = u\n",
    "                Q.append(v)\n",
    "        color[u] = \"BLACK\"\n",
    "\n",
    "    return distance, parent"
   ]
  },
  {
   "cell_type": "code",
   "execution_count": null,
   "id": "92f5822c",
   "metadata": {},
   "outputs": [],
   "source": []
  },
  {
   "cell_type": "code",
   "execution_count": null,
   "id": "a66c9909",
   "metadata": {},
   "outputs": [],
   "source": []
  }
 ],
 "metadata": {
  "kernelspec": {
   "display_name": "Python 3",
   "language": "python",
   "name": "python3"
  },
  "language_info": {
   "codemirror_mode": {
    "name": "ipython",
    "version": 3
   },
   "file_extension": ".py",
   "mimetype": "text/x-python",
   "name": "python",
   "nbconvert_exporter": "python",
   "pygments_lexer": "ipython3",
   "version": "3.12.5"
  }
 },
 "nbformat": 4,
 "nbformat_minor": 5
}
