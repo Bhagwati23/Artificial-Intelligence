{
 "cells": [
  {
   "cell_type": "markdown",
   "id": "00c17ab8",
   "metadata": {},
   "source": [
    "# Greedy Best-First Search (Beginner Friendly OOP Version)\n",
    "\n",
    "This notebook shows a **very simple Object-Oriented Programming (OOP)** implementation of Greedy Best-First Search. It avoids advanced Python features and focuses on clarity."
   ]
  },
  {
   "cell_type": "code",
   "execution_count": 1,
   "id": "5cc2f221",
   "metadata": {},
   "outputs": [
    {
     "name": "stdout",
     "output_type": "stream",
     "text": [
      "Path found: ['S', 'B', 'F', 'G']\n"
     ]
    }
   ],
   "source": [
    "\n",
    "class Graph:\n",
    "    def __init__(self):\n",
    "        self.edges = {}\n",
    "        self.heuristics = {}\n",
    "\n",
    "    def add_edge(self, from_node, to_node):\n",
    "        if from_node not in self.edges:\n",
    "            self.edges[from_node] = []\n",
    "        self.edges[from_node].append(to_node)\n",
    "\n",
    "    def set_heuristic(self, node, value):\n",
    "        self.heuristics[node] = value\n",
    "\n",
    "    def greedy_bfs(self, start, goal):\n",
    "        visited = []\n",
    "        queue = [(start, self.heuristics[start])]  # (node, heuristic)\n",
    "\n",
    "        while queue:\n",
    "            # Sort queue by heuristic value (pick smallest)\n",
    "            queue.sort(key=lambda x: x[1])\n",
    "            current, h = queue.pop(0)\n",
    "\n",
    "            if current in visited:\n",
    "                continue\n",
    "\n",
    "            visited.append(current)\n",
    "\n",
    "            if current == goal:\n",
    "                return visited\n",
    "\n",
    "            # Add neighbors to queue\n",
    "            for neighbor in self.edges.get(current, []):\n",
    "                if neighbor not in visited:\n",
    "                    queue.append((neighbor, self.heuristics[neighbor]))\n",
    "\n",
    "        return None\n",
    "\n",
    "\n",
    "# Example usage\n",
    "graph = Graph()\n",
    "\n",
    "# Add edges\n",
    "graph.add_edge('S', 'A')\n",
    "graph.add_edge('S', 'B')\n",
    "graph.add_edge('A', 'C')\n",
    "graph.add_edge('A', 'D')\n",
    "graph.add_edge('B', 'E')\n",
    "graph.add_edge('B', 'F')\n",
    "graph.add_edge('C', 'G')\n",
    "graph.add_edge('D', 'G')\n",
    "graph.add_edge('E', 'G')\n",
    "graph.add_edge('F', 'G')\n",
    "\n",
    "# Set heuristics\n",
    "graph.set_heuristic('S', 7)\n",
    "graph.set_heuristic('A', 6)\n",
    "graph.set_heuristic('B', 5)\n",
    "graph.set_heuristic('C', 4)\n",
    "graph.set_heuristic('D', 3)\n",
    "graph.set_heuristic('E', 4)\n",
    "graph.set_heuristic('F', 2)\n",
    "graph.set_heuristic('G', 0)\n",
    "\n",
    "# Run Greedy BFS\n",
    "path = graph.greedy_bfs('S', 'G')\n",
    "print(\"Path found:\", path)\n"
   ]
  },
  {
   "cell_type": "code",
   "execution_count": null,
   "id": "64f9ec81",
   "metadata": {},
   "outputs": [],
   "source": []
  }
 ],
 "metadata": {
  "kernelspec": {
   "display_name": "Python 3",
   "language": "python",
   "name": "python3"
  },
  "language_info": {
   "codemirror_mode": {
    "name": "ipython",
    "version": 3
   },
   "file_extension": ".py",
   "mimetype": "text/x-python",
   "name": "python",
   "nbconvert_exporter": "python",
   "pygments_lexer": "ipython3",
   "version": "3.12.5"
  }
 },
 "nbformat": 4,
 "nbformat_minor": 5
}
