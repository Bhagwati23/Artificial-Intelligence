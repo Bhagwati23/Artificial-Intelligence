{
 "cells": [
  {
   "cell_type": "markdown",
   "id": "88c74c21",
   "metadata": {},
   "source": [
    "# A* Search on Maze\n",
    "Implement A* search on a maze represented as a 2D matrix.\n",
    "1 = wall, 0 = path, 'A' = start, 'B' = goal.\n",
    "Initialization: \n"
   ]
  },
  {
   "cell_type": "code",
   "execution_count": 1,
   "id": "38345b59",
   "metadata": {},
   "outputs": [
    {
     "name": "stdout",
     "output_type": "stream",
     "text": [
      "(1, 1)\n",
      "(1, 3)\n"
     ]
    }
   ],
   "source": [
    "import matplotlib.pyplot as plt\n",
    "\n",
    "maze = [\n",
    "    [1, 1, 1, 1, 1],\n",
    "    [1, 'A', 0, 'B', 1],\n",
    "    [1, 0, 0, 0, 1],\n",
    "    [1, 1, 1, 1, 1]\n",
    "]\n",
    "\n",
    "for i in range(len(maze)):\n",
    "    for j in range(len(maze[0])):\n",
    "        if maze[i][j] == 'A':\n",
    "            start = (i, j)\n",
    "        if maze[i][j] == 'B':\n",
    "            goal = (i, j)\n",
    "\n",
    "print(start)\n",
    "print(goal)\n"
   ]
  },
  {
   "cell_type": "markdown",
   "id": "b32062e6",
   "metadata": {},
   "source": [
    "## A* Search with Manhattan Distance\n",
    "Implementing the standard A* algorithm using Manhattan distance as the heuristic.\n",
    "We will find the path from start to goal."
   ]
  },
  {
   "cell_type": "code",
   "execution_count": 2,
   "id": "559f2635",
   "metadata": {},
   "outputs": [
    {
     "name": "stdout",
     "output_type": "stream",
     "text": [
      "[(1, 1), (1, 2), (1, 3)]\n",
      "2\n"
     ]
    }
   ],
   "source": [
    "def manhattan(p1, p2):\n",
    "    return abs(p1[0] - p2[0]) + abs(p1[1] - p2[1])\n",
    "\n",
    "\n",
    "def aStar(maze, start, goal):\n",
    "    open_list = [(0, start)]\n",
    "    came = {}\n",
    "    g = {start: 0}\n",
    "\n",
    "    while open_list:\n",
    "        open_list.sort()\n",
    "        current = open_list.pop(0)[1]\n",
    "\n",
    "        if current == goal:\n",
    "            path = []\n",
    "            while current in came:\n",
    "                path.append(current)\n",
    "                current = came[current]\n",
    "            path.append(start)\n",
    "            return path[::-1]\n",
    "\n",
    "        for dx, dy in [(-1,0), (1,0), (0,-1), (0,1)]:\n",
    "            neighbor = (current[0]+dx, current[1]+dy)\n",
    "\n",
    "            if maze[neighbor[0]][neighbor[1]] != 1:\n",
    "                tg = g[current] + 1\n",
    "\n",
    "                if neighbor not in g or tg < g[neighbor]:\n",
    "                    g[neighbor] = tg\n",
    "                    f = tg + manhattan(neighbor, goal)\n",
    "                    open_list.append((f, neighbor))\n",
    "                    came[neighbor] = current\n",
    "\n",
    "    return None\n",
    "\n",
    "\n",
    "path = aStar(maze, start, goal)\n",
    "\n",
    "print(path)\n",
    "print(len(path)-1)\n"
   ]
  },
  {
   "cell_type": "markdown",
   "id": "4c3d4453",
   "metadata": {},
   "source": [
    "## Visualizing Path (Normal Heuristic)\n",
    "Visualizing the path found by A* using '*' to mark the path."
   ]
  },
  {
   "cell_type": "code",
   "execution_count": 3,
   "id": "c6d07ac6",
   "metadata": {},
   "outputs": [
    {
     "name": "stdout",
     "output_type": "stream",
     "text": [
      "1 1 1 1 1\n",
      "1 A * B 1\n",
      "1 0 0 0 1\n",
      "1 1 1 1 1\n"
     ]
    }
   ],
   "source": [
    "import numpy as np\n",
    "\n",
    "maze_visual = np.array(maze, dtype=str)\n",
    "\n",
    "for i, j in path:\n",
    "    if maze_visual[i][j] not in ['A', 'B']:\n",
    "        maze_visual[i][j] = '*'\n",
    "\n",
    "for row in maze_visual:\n",
    "    print(' '.join(row))\n"
   ]
  },
  {
   "cell_type": "markdown",
   "id": "264b8feb",
   "metadata": {},
   "source": [
    "## A* with Scaled Manhattan Distance\n",
    "We now modify the heuristic by multiplying the Manhattan distance by 1.5.\n",
    "We will check if it is admissible and run A* again."
   ]
  },
  {
   "cell_type": "code",
   "execution_count": 4,
   "id": "8a3a58eb",
   "metadata": {},
   "outputs": [
    {
     "name": "stdout",
     "output_type": "stream",
     "text": [
      "[(1, 1), (1, 2), (1, 3)]\n",
      "2\n"
     ]
    }
   ],
   "source": [
    "def astar_scaled(mz, st, gl, s=1.5):\n",
    "\n",
    "    def h(p1, p2):\n",
    "        return s * (abs(p1[0]-p2[0]) + abs(p1[1]-p2[1]))\n",
    "    \n",
    "    open_list = [(0, st)]\n",
    "    came = {}\n",
    "    g = {st: 0}\n",
    "    \n",
    "    while open_list:\n",
    "        open_list.sort()\n",
    "        cur = open_list.pop(0)[1]\n",
    "        \n",
    "        if cur == gl:\n",
    "            path = []\n",
    "            while cur in came:\n",
    "                path.append(cur)\n",
    "                cur = came[cur]\n",
    "            path.append(st)\n",
    "            return path[::-1]\n",
    "        \n",
    "        for dx, dy in [(-1,0),(1,0),(0,-1),(0,1)]:\n",
    "            nb = (cur[0]+dx, cur[1]+dy)\n",
    "            \n",
    "            if mz[nb[0]][nb[1]] != 1:\n",
    "                tg = g[cur] + 1\n",
    "                \n",
    "                if nb not in g or tg < g[nb]:\n",
    "                    g[nb] = tg\n",
    "                    f = tg + h(nb, gl)\n",
    "                    open_list.append((f, nb))\n",
    "                    came[nb] = cur\n",
    "    \n",
    "    return None\n",
    "\n",
    "path_s = astar_scaled(maze, start, goal)\n",
    "\n",
    "print(path_s)\n",
    "print(len(path_s)-1)\n"
   ]
  },
  {
   "cell_type": "markdown",
   "id": "c8fdef4c",
   "metadata": {},
   "source": [
    "## Visualizing Path (Scaled Heuristic)\n",
    "Visualizing the path found by A* using the scaled heuristic.\n"
   ]
  },
  {
   "cell_type": "code",
   "execution_count": 5,
   "id": "ec4d34c3",
   "metadata": {},
   "outputs": [
    {
     "name": "stdout",
     "output_type": "stream",
     "text": [
      "1 1 1 1 1\n",
      "1 A * B 1\n",
      "1 0 0 0 1\n",
      "1 1 1 1 1\n"
     ]
    }
   ],
   "source": [
    "import numpy as np\n",
    "\n",
    "mz_v = np.array(maze, dtype=str)\n",
    "\n",
    "for i, j in path_s:\n",
    "    if mz_v[i][j] not in ['A', 'B']:\n",
    "        mz_v[i][j] = '*'\n",
    "\n",
    "for row in mz_v:\n",
    "    print(' '.join(row))\n"
   ]
  },
  {
   "cell_type": "markdown",
   "id": "c9b789d9",
   "metadata": {},
   "source": [
    "## A* with Inconsistent Heuristic\n",
    "We define a heuristic that violates consistency for one edge and run A*.\n",
    "This may lead to non-optimal path.\n"
   ]
  },
  {
   "cell_type": "code",
   "execution_count": 6,
   "id": "78bc1595",
   "metadata": {},
   "outputs": [
    {
     "name": "stdout",
     "output_type": "stream",
     "text": [
      "[(1, 1), (2, 1), (2, 2), (2, 3), (1, 3)]\n",
      "4\n"
     ]
    }
   ],
   "source": [
    "def astar_inconsistent(mz, st, gl):\n",
    "    \n",
    "    def h(p1, p2):\n",
    "        if p1 == (1,2) and p2 == gl:  # deliberately break consistency for one edge\n",
    "            return 10\n",
    "        return abs(p1[0]-p2[0]) + abs(p1[1]-p2[1])\n",
    "    \n",
    "    open_list = [(0, st)]\n",
    "    came = {}\n",
    "    g = {st: 0}\n",
    "    \n",
    "    while open_list:\n",
    "        open_list.sort()\n",
    "        cur = open_list.pop(0)[1]\n",
    "        \n",
    "        if cur == gl:\n",
    "            path = []\n",
    "            while cur in came:\n",
    "                path.append(cur)\n",
    "                cur = came[cur]\n",
    "            path.append(st)\n",
    "            return path[::-1]\n",
    "        \n",
    "        for dx, dy in [(-1,0),(1,0),(0,-1),(0,1)]:\n",
    "            nb = (cur[0]+dx, cur[1]+dy)\n",
    "            \n",
    "            if mz[nb[0]][nb[1]] != 1:\n",
    "                tg = g[cur] + 1\n",
    "                \n",
    "                if nb not in g or tg < g[nb]:\n",
    "                    g[nb] = tg\n",
    "                    f = tg + h(nb, gl)\n",
    "                    open_list.append((f, nb))\n",
    "                    came[nb] = cur\n",
    "    \n",
    "    return None\n",
    "\n",
    "path_inc = astar_inconsistent(maze, start, goal)\n",
    "\n",
    "print(path_inc)\n",
    "print(len(path_inc)-1)\n"
   ]
  },
  {
   "cell_type": "markdown",
   "id": "74dd6f74",
   "metadata": {},
   "source": [
    "## Visualizing Path (Inconsistent Heuristic)\n",
    "Visualizing the path found by A* using the inconsistent heuristic.\n"
   ]
  },
  {
   "cell_type": "code",
   "execution_count": 7,
   "id": "cd1e634c",
   "metadata": {},
   "outputs": [
    {
     "name": "stdout",
     "output_type": "stream",
     "text": [
      "1 1 1 1 1\n",
      "1 A 0 B 1\n",
      "1 * * * 1\n",
      "1 1 1 1 1\n"
     ]
    }
   ],
   "source": [
    "mz_v = np.array(maze, dtype=str)\n",
    "\n",
    "for i, j in path_inc:\n",
    "    if mz_v[i][j] not in ['A', 'B']:\n",
    "        mz_v[i][j] = '*'\n",
    "\n",
    "for row in mz_v:\n",
    "    print(' '.join(row))\n"
   ]
  },
  {
   "cell_type": "markdown",
   "id": "5227106d",
   "metadata": {},
   "source": [
    "## Summary of Results\n",
    "Comparing all three cases:\n",
    "- Path found\n",
    "- Cost of path\n",
    "- Whether path is guaranteed to be optimal\n"
   ]
  },
  {
   "cell_type": "code",
   "execution_count": 8,
   "id": "a19a8e99",
   "metadata": {},
   "outputs": [
    {
     "name": "stdout",
     "output_type": "stream",
     "text": [
      "Normal Heuristic:\n",
      "Path: [(1, 1), (1, 2), (1, 3)]\n",
      "Cost: 2\n",
      "Optimal: True\n",
      "\n",
      "Scaled Heuristic (x1.5):\n",
      "Path: [(1, 1), (1, 2), (1, 3)]\n",
      "Cost: 2\n",
      "Optimal: True\n",
      "\n",
      "Inconsistent Heuristic:\n",
      "Path: [(1, 1), (2, 1), (2, 2), (2, 3), (1, 3)]\n",
      "Cost: 4\n",
      "Optimal: False\n"
     ]
    }
   ],
   "source": [
    "print(\"Normal Heuristic:\")\n",
    "print(\"Path:\", path)\n",
    "print(\"Cost:\", len(path)-1)\n",
    "print(\"Optimal:\", True)\n",
    "print()\n",
    "\n",
    "print(\"Scaled Heuristic (x1.5):\")\n",
    "print(\"Path:\", path_s)\n",
    "print(\"Cost:\", len(path_s)-1)\n",
    "print(\"Optimal:\", True)\n",
    "print()\n",
    "\n",
    "print(\"Inconsistent Heuristic:\")\n",
    "print(\"Path:\", path_inc)\n",
    "print(\"Cost:\", len(path_inc)-1)\n",
    "print(\"Optimal:\", False)  # May not be optimal due to inconsistency\n"
   ]
  }
 ],
 "metadata": {
  "kernelspec": {
   "display_name": "Python 3",
   "language": "python",
   "name": "python3"
  },
  "language_info": {
   "codemirror_mode": {
    "name": "ipython",
    "version": 3
   },
   "file_extension": ".py",
   "mimetype": "text/x-python",
   "name": "python",
   "nbconvert_exporter": "python",
   "pygments_lexer": "ipython3",
   "version": "3.12.5"
  }
 },
 "nbformat": 4,
 "nbformat_minor": 5
}
